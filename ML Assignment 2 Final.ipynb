{
 "cells": [
  {
   "cell_type": "markdown",
   "id": "31a738a7",
   "metadata": {},
   "source": [
    "# Problem 1:\n",
    "Write a program that swaps the values of two variables."
   ]
  },
  {
   "cell_type": "code",
   "execution_count": 1,
   "id": "c2e724ff",
   "metadata": {},
   "outputs": [
    {
     "name": "stdout",
     "output_type": "stream",
     "text": [
      "Before swapping: a = 5, b = 10\n",
      "After swapping: a = 10, b = 5\n"
     ]
    }
   ],
   "source": [
    "def swap_vars(a, b):\n",
    "    print(f\"Before swapping: a = {a}, b = {b}\")\n",
    "    a,b = b,a\n",
    "    print(f\"After swapping: a = {a}, b = {b}\")\n",
    "\n",
    "var1 = 5\n",
    "var2 = 10\n",
    "swap_vars(var1, var2)\n"
   ]
  },
  {
   "cell_type": "markdown",
   "id": "64168d1b",
   "metadata": {},
   "source": [
    "# Problem 2:\n",
    "Write a program that calculates the area of a rectangle given its length and width."
   ]
  },
  {
   "cell_type": "code",
   "execution_count": 2,
   "id": "a0b8298f",
   "metadata": {},
   "outputs": [
    {
     "name": "stdout",
     "output_type": "stream",
     "text": [
      "Length: 5\n",
      "Width: 3\n",
      "Area: 15\n"
     ]
    }
   ],
   "source": [
    "x = int(input('Length: ')) \n",
    "y = int(input('Width: '))\n",
    "A= x*y\n",
    "print('Area:',A)"
   ]
  },
  {
   "cell_type": "code",
   "execution_count": 3,
   "id": "3e04b2b1",
   "metadata": {},
   "outputs": [
    {
     "name": "stdout",
     "output_type": "stream",
     "text": [
      "Length: 5\n",
      "Width: 3\n",
      "Area of Rectangle:  15\n"
     ]
    }
   ],
   "source": [
    "def Area_of_Rectangle(a,b):\n",
    "    Area = a*b\n",
    "    return Area\n",
    "\n",
    "num1 = int(input(\"Length: \"))\n",
    "num2 = int(input(\"Width: \"))\n",
    "Area = Area_of_Rectangle(num1,num2)\n",
    "print('Area of Rectangle: ',Area)\n",
    "    "
   ]
  },
  {
   "cell_type": "markdown",
   "id": "866200ca",
   "metadata": {},
   "source": [
    "# Problem 3:\n",
    "Write a program that converts temperature from Fahrenheit to Celsius."
   ]
  },
  {
   "cell_type": "code",
   "execution_count": 4,
   "id": "403ff673",
   "metadata": {},
   "outputs": [
    {
     "name": "stdout",
     "output_type": "stream",
     "text": [
      "Fahrenheit_Temperature: 52\n",
      "Celsius_Temperature:  11.11111111111111\n"
     ]
    }
   ],
   "source": [
    "x = int(input('Fahrenheit_Temperature: '))\n",
    "C = (x-32)*(5/9)\n",
    "print('Celsius_Temperature: ',C)"
   ]
  },
  {
   "cell_type": "code",
   "execution_count": 5,
   "id": "bfe81302",
   "metadata": {},
   "outputs": [
    {
     "name": "stdout",
     "output_type": "stream",
     "text": [
      "Farhenheit_Tem: 52\n",
      "52F is equal to 11.11111111111111C.\n"
     ]
    }
   ],
   "source": [
    "def Fahr_to_Cel(F):\n",
    "    C = (F-32)*(5/9)\n",
    "    return C\n",
    "\n",
    "Farhenheit_Tem = int(input('Farhenheit_Tem: '))\n",
    "Celsius_Tem = Fahr_to_Cel(Farhenheit_Tem)\n",
    "print(f\"{Farhenheit_Tem}F is equal to {Celsius_Tem}C.\")"
   ]
  },
  {
   "cell_type": "markdown",
   "id": "da2275f8",
   "metadata": {},
   "source": [
    "# Problem 4:\n",
    "Write a program that calculates the volume of a sphere given its radius."
   ]
  },
  {
   "cell_type": "code",
   "execution_count": 6,
   "id": "45968fe9",
   "metadata": {},
   "outputs": [
    {
     "name": "stdout",
     "output_type": "stream",
     "text": [
      "Radius_Sphere: 5\n",
      "Volume_Sphere:  523.5987755982989\n"
     ]
    }
   ],
   "source": [
    "import math\n",
    "x = int(input('Radius_Sphere: '))\n",
    "V = (4/3)*math.pi*(x**3)\n",
    "print('Volume_Sphere: ',V)"
   ]
  },
  {
   "cell_type": "code",
   "execution_count": 7,
   "id": "fdfb3d2e",
   "metadata": {},
   "outputs": [
    {
     "name": "stdout",
     "output_type": "stream",
     "text": [
      "The volume of a Sphere with radius 6 is 904.7786842338603.\n"
     ]
    }
   ],
   "source": [
    "import math\n",
    "\n",
    "def Vol_Sphere(a):\n",
    "    Vol = (4/3)*math.pi*(a**3)\n",
    "    return Vol\n",
    "radius = 6\n",
    "Volume = Vol_Sphere(radius)\n",
    "print(f\"The volume of a Sphere with radius {radius} is {Volume}.\")"
   ]
  },
  {
   "cell_type": "markdown",
   "id": "00eb58d0",
   "metadata": {},
   "source": [
    "# Problem 5:\n",
    "Write a program that finds the average of three numbers."
   ]
  },
  {
   "cell_type": "code",
   "execution_count": 8,
   "id": "8dc08dae",
   "metadata": {},
   "outputs": [
    {
     "name": "stdout",
     "output_type": "stream",
     "text": [
      "Average value of 20,30,50 is 33.333333333333336\n"
     ]
    }
   ],
   "source": [
    "def cal_average(a,b,c):\n",
    "    average = (a+b+c)/3\n",
    "    return average\n",
    "\n",
    "num1 = 20\n",
    "num2 = 30\n",
    "num3 = 50\n",
    "avg = cal_average(num1,num2,num3)\n",
    "\n",
    "print(f\"Average value of {num1},{num2},{num3} is {avg}\")\n",
    "    "
   ]
  },
  {
   "cell_type": "markdown",
   "id": "c5310aa1",
   "metadata": {},
   "source": [
    "# Problem 6:\n",
    "Write a program that determines if a number is even or odd."
   ]
  },
  {
   "cell_type": "code",
   "execution_count": 9,
   "id": "540ad00c",
   "metadata": {},
   "outputs": [
    {
     "name": "stdout",
     "output_type": "stream",
     "text": [
      "Enter a number: 21\n",
      "The Number 21 is odd.\n"
     ]
    }
   ],
   "source": [
    "num = int(input('Enter a number: '))\n",
    "if num % 2==0:\n",
    "    print(f'The Number {num} is Even.')\n",
    "else:\n",
    "    print( f'The Number {num} is odd.')\n",
    "\n"
   ]
  },
  {
   "cell_type": "code",
   "execution_count": 10,
   "id": "300a0961",
   "metadata": {},
   "outputs": [
    {
     "name": "stdout",
     "output_type": "stream",
     "text": [
      "Enter a number: 23\n",
      "The number 23 is Odd.\n"
     ]
    }
   ],
   "source": [
    "def Even_Odd(a):\n",
    "    if a % 2 ==0:\n",
    "        return \"Even\"\n",
    "    else:\n",
    "        return \"Odd\"\n",
    "\n",
    "num = int(input('Enter a number: '))\n",
    "Check_num = Even_Odd(num)\n",
    "print(f\"The number {num} is {Check_num}.\")"
   ]
  },
  {
   "cell_type": "markdown",
   "id": "8029024f",
   "metadata": {},
   "source": [
    "# Problem 7:\n",
    "Write a program that finds the maximum of three numbers."
   ]
  },
  {
   "cell_type": "code",
   "execution_count": 11,
   "id": "7153ac58",
   "metadata": {},
   "outputs": [
    {
     "name": "stdout",
     "output_type": "stream",
     "text": [
      "Maximum number is 4.\n"
     ]
    }
   ],
   "source": [
    "def Maximum(x):\n",
    "    a = max(x)\n",
    "    return a\n",
    "\n",
    "nums = [2,4,4]\n",
    "Max = Maximum(nums)\n",
    "print(f'Maximum number is {Max}.')\n"
   ]
  },
  {
   "cell_type": "code",
   "execution_count": 12,
   "id": "e9116662",
   "metadata": {},
   "outputs": [
    {
     "name": "stdout",
     "output_type": "stream",
     "text": [
      "1st Number: 20\n",
      "2nd Number: 12\n",
      "3rd Number: 10\n",
      "Maximum number of 20, 12 and 10 is 20.\n"
     ]
    }
   ],
   "source": [
    "def Maximum(x1,x2,x3):\n",
    "    a = max(x1,x2,x3)\n",
    "    return a\n",
    "\n",
    "num1 = int(input('1st Number: '))\n",
    "num2 = int(input('2nd Number: '))\n",
    "num3 = int(input('3rd Number: '))\n",
    "Max = Maximum(num1,num2,num3)\n",
    "print(f'Maximum number of {num1}, {num2} and {num3} is {Max}.')\n"
   ]
  },
  {
   "cell_type": "markdown",
   "id": "89ecc239",
   "metadata": {},
   "source": [
    "# Problem 8:\n",
    "Write a program that determines if a year is a leap year or not."
   ]
  },
  {
   "cell_type": "code",
   "execution_count": 13,
   "id": "fdfb1929",
   "metadata": {},
   "outputs": [
    {
     "name": "stdout",
     "output_type": "stream",
     "text": [
      "Enter a Year: 2006\n",
      "The year 2006 is not a Leap Year.\n"
     ]
    }
   ],
   "source": [
    "x = int(input(\"Enter a Year: \"))\n",
    "if x/4==0:\n",
    "    print(f'The year {x} is a Leap Year.')\n",
    "else:\n",
    "    print(f'The year {x} is not a Leap Year.')"
   ]
  },
  {
   "cell_type": "markdown",
   "id": "11473fb6",
   "metadata": {},
   "source": [
    "# Problem 9:\n",
    "Write a program that determines if a number is positive, negative, or zero."
   ]
  },
  {
   "cell_type": "code",
   "execution_count": 14,
   "id": "001305f3",
   "metadata": {},
   "outputs": [
    {
     "name": "stdout",
     "output_type": "stream",
     "text": [
      "Enter a number: 32\n",
      "The number 32 is Positive.\n"
     ]
    }
   ],
   "source": [
    "x = int(input('Enter a number: '))\n",
    "if x>0:\n",
    "    print(f'The number {x} is Positive.')\n",
    "elif x<0:\n",
    "        print(f'The number {x} is Negative.')\n",
    "else:\n",
    "    print(f'The number {x} is Zero.')"
   ]
  },
  {
   "cell_type": "markdown",
   "id": "7cfcbc3c",
   "metadata": {},
   "source": [
    "# Problem 10:\n",
    "Write a program that calculates the grade based on a given percentage."
   ]
  },
  {
   "cell_type": "code",
   "execution_count": 15,
   "id": "864105ff",
   "metadata": {},
   "outputs": [
    {
     "name": "stdout",
     "output_type": "stream",
     "text": [
      "Enter the Percentage: 53\n",
      "The grade for 53% is B.\n"
     ]
    }
   ],
   "source": [
    "x = int(input('Enter the Percentage: '))\n",
    "if x>=80:\n",
    "    print(f'The grade for {x}% is A+.')\n",
    "elif x>=70:\n",
    "     print(f'The grade for {x}% is A.')\n",
    "elif x>=60:\n",
    "     print(f'The grade for {x}% is A-.')\n",
    "elif x>=50:\n",
    "     print(f'The grade for {x}% is B.')\n",
    "elif x>=40:\n",
    "     print(f'The grade for {x}% is C')\n",
    "elif x>=33:\n",
    "     print(f'The grade for {x}% is D.')\n",
    "else:\n",
    "     print(f'The grade for {x}% is F.')\n",
    "    "
   ]
  },
  {
   "cell_type": "code",
   "execution_count": 16,
   "id": "d06b2b0c",
   "metadata": {},
   "outputs": [
    {
     "name": "stdout",
     "output_type": "stream",
     "text": [
      "Enter the percentage: 12\n",
      "The grade for 12 is F.\n"
     ]
    }
   ],
   "source": [
    "def cal_grade(x):\n",
    "    if x>=80:\n",
    "        return \"A+\"\n",
    "    elif x>=70:\n",
    "         return \"A\"\n",
    "    elif x>=60:\n",
    "         return \"A-\"\n",
    "    elif x>=50:\n",
    "         return \"B\"\n",
    "    elif x>=40:\n",
    "         return \"C\"\n",
    "    elif x>=33:\n",
    "         return \"D\"\n",
    "    else:\n",
    "         return \"F\"\n",
    "\n",
    "        \n",
    "percentage = int(input('Enter the percentage: '))\n",
    "grade = cal_grade(percentage)\n",
    "print(f'The grade for {percentage} is {grade}.')\n",
    "     \n",
    "    "
   ]
  },
  {
   "cell_type": "markdown",
   "id": "709c511b",
   "metadata": {},
   "source": [
    "# Problem 11:\n",
    "Write a program that prints the first `n` natural numbers."
   ]
  },
  {
   "cell_type": "code",
   "execution_count": 17,
   "id": "ccd99086",
   "metadata": {},
   "outputs": [
    {
     "name": "stdout",
     "output_type": "stream",
     "text": [
      "Enter a natural number: 5\n",
      "0\n",
      "1\n",
      "2\n",
      "3\n",
      "4\n"
     ]
    }
   ],
   "source": [
    "n = int(input('Enter a natural number: '))\n",
    "for i in range (0,n):\n",
    "    print(i)"
   ]
  },
  {
   "cell_type": "markdown",
   "id": "eeaf4176",
   "metadata": {},
   "source": [
    "# Problem 12:\n",
    "Write a program that calculates the factorial of a number."
   ]
  },
  {
   "cell_type": "code",
   "execution_count": 18,
   "id": "93e54b0f",
   "metadata": {},
   "outputs": [
    {
     "name": "stdout",
     "output_type": "stream",
     "text": [
      "Enter the number:5\n",
      "The factorial of 5 is 120.\n"
     ]
    }
   ],
   "source": [
    "num = int(input('Enter the number:'))\n",
    "\n",
    "total = 1\n",
    "\n",
    "if num<0:\n",
    "        print('The factorial of negative is not defined')\n",
    "\n",
    "for i in range(num,0,-1):\n",
    "\n",
    "    total = i * total\n",
    "\n",
    "print(f'The factorial of {num} is {total}.')"
   ]
  },
  {
   "cell_type": "code",
   "execution_count": 19,
   "id": "a80232d1",
   "metadata": {},
   "outputs": [
    {
     "name": "stdout",
     "output_type": "stream",
     "text": [
      "Enter a number: 5\n",
      "The factorial of 5 is 120.\n"
     ]
    }
   ],
   "source": [
    "def fact(x):\n",
    "    \n",
    "    result = 1\n",
    "    \n",
    "    if x==0:\n",
    "        \n",
    "        print(f'The factorial of {x} is 1.')\n",
    "        \n",
    "    elif x<0:\n",
    "        print('The factorial of negative is not defined')\n",
    "        \n",
    "    else:\n",
    "        for i in range (x):\n",
    "            \n",
    "            result = result*(i+1)\n",
    "            \n",
    "        return result\n",
    "\n",
    "num = int(input('Enter a number: '))\n",
    "factorial = fact(num)\n",
    "print(f'The factorial of {num} is {factorial}.')"
   ]
  },
  {
   "cell_type": "code",
   "execution_count": 20,
   "id": "3c6b7138",
   "metadata": {},
   "outputs": [
    {
     "name": "stdout",
     "output_type": "stream",
     "text": [
      "Enter a number: 5\n",
      "The factorial of 5 is: 120\n"
     ]
    }
   ],
   "source": [
    "def factorial(n):\n",
    "    if n < 0:\n",
    "        return \"Factorial is not defined for negative numbers.\"\n",
    "    elif n == 0 or n == 1:\n",
    "        return 1\n",
    "    else:\n",
    "        return n * factorial(n - 1)\n",
    "\n",
    "num = int(input('Enter a number: '))\n",
    "result = factorial(num)\n",
    "print(f\"The factorial of {num} is: {result}\")\n"
   ]
  },
  {
   "cell_type": "markdown",
   "id": "9d707527",
   "metadata": {},
   "source": [
    "# Problem 13:\n",
    "Write a program that generates a Fibonacci sequence of length `n`."
   ]
  },
  {
   "cell_type": "code",
   "execution_count": 21,
   "id": "84128405",
   "metadata": {},
   "outputs": [
    {
     "name": "stdout",
     "output_type": "stream",
     "text": [
      "Enter the length of the Fibonacci sequence: 6\n",
      "The Fibonacci sequence of length 6 is: [0, 1, 1, 2, 3, 5]\n"
     ]
    }
   ],
   "source": [
    "def generate_fibonacci_sequence(n):\n",
    "    fibonacci_seq = []\n",
    "    a, b = 0, 1\n",
    "\n",
    "    if n <= 0:\n",
    "        return \"Please enter a positive integer.\"\n",
    "    elif n == 1:\n",
    "        fibonacci_seq.append(a)\n",
    "    else:\n",
    "        fibonacci_seq.extend([a, b])\n",
    "        for i in range(2, n):\n",
    "            next_num = a + b\n",
    "            fibonacci_seq.append(next_num)\n",
    "            a, b = b, next_num\n",
    "\n",
    "    return fibonacci_seq\n",
    "\n",
    "length = int(input(\"Enter the length of the Fibonacci sequence: \"))\n",
    "result = generate_fibonacci_sequence(length)\n",
    "print(f\"The Fibonacci sequence of length {length} is: {result}\")"
   ]
  },
  {
   "cell_type": "code",
   "execution_count": 22,
   "id": "b2963334",
   "metadata": {},
   "outputs": [
    {
     "name": "stdout",
     "output_type": "stream",
     "text": [
      "Enter the length of the Fibonacci sequence: 6\n",
      "The Fibonacci sequence up to 6 terms is: [0, 1, 1, 2, 3, 5]\n"
     ]
    }
   ],
   "source": [
    "def fibonacci_sequence(n):\n",
    "    fibonacci = [0, 1]\n",
    "\n",
    "    if n <= 0:\n",
    "        return \"Please enter a positive integer.\"\n",
    "    elif n == 1:\n",
    "        return [0]\n",
    "    elif n == 2:\n",
    "        return fibonacci\n",
    "\n",
    "    for i in range(2, n):\n",
    "        next_number = fibonacci[i - 1] + fibonacci[i - 2]\n",
    "        fibonacci.append(next_number)\n",
    "\n",
    "    return fibonacci\n",
    "\n",
    "num = int(input(\"Enter the length of the Fibonacci sequence: \"))\n",
    "sequence = fibonacci_sequence(num)\n",
    "print(f\"The Fibonacci sequence up to {num} terms is: {sequence}\")"
   ]
  },
  {
   "cell_type": "markdown",
   "id": "e4e3a1de",
   "metadata": {},
   "source": [
    "# Problem 14:\n",
    "Write a program that checks if a given number is prime or not."
   ]
  },
  {
   "cell_type": "code",
   "execution_count": 23,
   "id": "9ab2db7d",
   "metadata": {},
   "outputs": [
    {
     "name": "stdout",
     "output_type": "stream",
     "text": [
      "Enter a number: 223\n",
      "223 is a prime number.\n"
     ]
    }
   ],
   "source": [
    "def is_prime(number):\n",
    "    if number <= 1:\n",
    "        return False\n",
    "    for i in range(2, int(number ** 0.5) + 1):\n",
    "        if number % i == 0:\n",
    "            return False\n",
    "    return True\n",
    "\n",
    "\n",
    "num = int(input(\"Enter a number: \"))\n",
    "if is_prime(num):\n",
    "    print(f\"{num} is a prime number.\")\n",
    "else:\n",
    "    print(f\"{num} is not a prime number.\")\n",
    "\n"
   ]
  },
  {
   "cell_type": "markdown",
   "id": "4fb86cf1",
   "metadata": {},
   "source": [
    "# Problem 15:\n",
    "Write a program that prints the multiplication table of a given number."
   ]
  },
  {
   "cell_type": "code",
   "execution_count": 24,
   "id": "321175ed",
   "metadata": {},
   "outputs": [
    {
     "name": "stdout",
     "output_type": "stream",
     "text": [
      "Enter a number: 21\n",
      "Multiplication table for 21:\n",
      "21 * 1 = 21\n",
      "21 * 2 = 42\n",
      "21 * 3 = 63\n",
      "21 * 4 = 84\n",
      "21 * 5 = 105\n",
      "21 * 6 = 126\n",
      "21 * 7 = 147\n",
      "21 * 8 = 168\n",
      "21 * 9 = 189\n",
      "21 * 10 = 210\n"
     ]
    }
   ],
   "source": [
    "def multiplication_table(number):\n",
    "    print(f\"Multiplication table for {number}:\")\n",
    "    for i in range(1, 11):\n",
    "        print(f\"{number} * {i} = {number * i}\")\n",
    "\n",
    "\n",
    "num = int(input(\"Enter a number: \"))\n",
    "\n",
    "multiplication_table(num)\n"
   ]
  },
  {
   "cell_type": "markdown",
   "id": "6ab272f4",
   "metadata": {},
   "source": [
    "# Problem 16:\n",
    "Write a program that finds the sum of all even numbers between 1 and n."
   ]
  },
  {
   "cell_type": "code",
   "execution_count": 25,
   "id": "17169b68",
   "metadata": {},
   "outputs": [
    {
     "name": "stdout",
     "output_type": "stream",
     "text": [
      "Enter a number: 20\n",
      "The sum of even numbers between 1 and 20 is: 110\n"
     ]
    }
   ],
   "source": [
    "def sum_of_even(n):\n",
    "    sum_even = 0\n",
    "    i = 2\n",
    "    while i<=n:\n",
    "        sum_even += i\n",
    "        i += 2\n",
    "    return sum_even\n",
    "\n",
    "lim = int(input(\"Enter a number: \"))\n",
    "Total = sum_of_even(lim)\n",
    "print(f\"The sum of even numbers between 1 and {lim} is: {Total}\")\n",
    "\n",
    "    "
   ]
  },
  {
   "cell_type": "markdown",
   "id": "c09fe068",
   "metadata": {},
   "source": [
    "# Problem 17:\n",
    "Write a program that reverses a given number."
   ]
  },
  {
   "cell_type": "code",
   "execution_count": 26,
   "id": "2f93239e",
   "metadata": {},
   "outputs": [
    {
     "name": "stdout",
     "output_type": "stream",
     "text": [
      "Enter a number to reverse it: 223\n",
      "The reversed number of 223 is: 322\n"
     ]
    }
   ],
   "source": [
    "def reverse_number(number):\n",
    "    reversed_num = 0\n",
    "    while number > 0:\n",
    "        last_digit = number % 10\n",
    "        reversed_num = (reversed_num * 10) + last_digit\n",
    "        number //= 10\n",
    "    return reversed_num\n",
    "\n",
    "\n",
    "num = int(input(\"Enter a number to reverse it: \"))\n",
    "reversed_number = reverse_number(num)\n",
    "print(f\"The reversed number of {num} is: {reversed_number}\")\n"
   ]
  },
  {
   "cell_type": "markdown",
   "id": "628ba02f",
   "metadata": {},
   "source": [
    "# Problem 18:\n",
    "Write a program that checks if a given string is a palindrome."
   ]
  },
  {
   "cell_type": "code",
   "execution_count": 27,
   "id": "da3ce396",
   "metadata": {},
   "outputs": [
    {
     "name": "stdout",
     "output_type": "stream",
     "text": [
      "Enter a string to check if it's a palindrome: madam\n",
      "The string 'madam' is a palindrome.\n"
     ]
    }
   ],
   "source": [
    "def is_palindrome(s):\n",
    "    s = s.replace(\" \", \"\").lower()\n",
    "    left, right = 0, len(s) - 1\n",
    "    \n",
    "    while left < right:\n",
    "        if s[left] != s[right]:\n",
    "            return False\n",
    "        left += 1\n",
    "        right -= 1\n",
    "    \n",
    "    return True\n",
    "\n",
    "\n",
    "string = input(\"Enter a string to check if it's a palindrome: \")\n",
    "\n",
    "if is_palindrome(string):\n",
    "    print(f\"The string '{string}' is a palindrome.\")\n",
    "else:\n",
    "    print(f\"The string '{string}' is not a palindrome.\")\n"
   ]
  },
  {
   "cell_type": "markdown",
   "id": "f72486a9",
   "metadata": {},
   "source": [
    "# Problem 19:\n",
    "Write a program that generates a random number and allows the user to guess it."
   ]
  },
  {
   "cell_type": "code",
   "execution_count": null,
   "id": "8b3c16ce",
   "metadata": {},
   "outputs": [],
   "source": []
  },
  {
   "cell_type": "markdown",
   "id": "e78be100",
   "metadata": {},
   "source": [
    "# Problem 20:\n",
    "Write a program that finds the greatest common divisor (GCD) of two numbers."
   ]
  },
  {
   "cell_type": "code",
   "execution_count": 28,
   "id": "8fac3079",
   "metadata": {},
   "outputs": [
    {
     "name": "stdout",
     "output_type": "stream",
     "text": [
      "Enter the first number: 210\n",
      "Enter the second number: 120\n",
      "The GCD of 210 and 120 is: 30\n"
     ]
    }
   ],
   "source": [
    "def gcd(a, b):\n",
    "    while b:\n",
    "        a, b = b, a % b\n",
    "    return a\n",
    "\n",
    "num1 = int(input(\"Enter the first number: \"))\n",
    "num2 = int(input(\"Enter the second number: \"))\n",
    "\n",
    "result = gcd(num1, num2)\n",
    "print(f\"The GCD of {num1} and {num2} is: {result}\")\n"
   ]
  },
  {
   "cell_type": "code",
   "execution_count": null,
   "id": "9149c7cb",
   "metadata": {},
   "outputs": [],
   "source": []
  }
 ],
 "metadata": {
  "kernelspec": {
   "display_name": "Python 3 (ipykernel)",
   "language": "python",
   "name": "python3"
  },
  "language_info": {
   "codemirror_mode": {
    "name": "ipython",
    "version": 3
   },
   "file_extension": ".py",
   "mimetype": "text/x-python",
   "name": "python",
   "nbconvert_exporter": "python",
   "pygments_lexer": "ipython3",
   "version": "3.10.9"
  }
 },
 "nbformat": 4,
 "nbformat_minor": 5
}
